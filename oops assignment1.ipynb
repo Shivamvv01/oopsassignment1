{
 "cells": [
  {
   "cell_type": "markdown",
   "id": "9332520f-2dcb-4e5b-9334-a65efb32cd11",
   "metadata": {},
   "source": [
    "Q1. Explain Class and Object with respect to Object-Oriented Programming. Give a suitable example."
   ]
  },
  {
   "cell_type": "markdown",
   "id": "d5c48133-8546-4d1f-ae61-33584889dd3b",
   "metadata": {},
   "source": [
    "Ans:- Class\n",
    "A class is a user-defined data type in OOP that encapsulates data (attributes) and behavior (methods) into a single unit. It serves as a blueprint or a set of instructions for creating objects of that class type. Classes allow us to define the common attributes and behavior shared by multiple objects, promoting code reusability and modularity.\n",
    "\n",
    "Object\n",
    "An object is an instance of a class, representing a real-world entity with its unique state and behavior. When you create an object, you instantiate the class, and it becomes a concrete, tangible entity in your program. Objects allow you to work with specific instances that possess distinct attributes and can perform actions based on the defined methods.\n"
   ]
  },
  {
   "cell_type": "code",
   "execution_count": 4,
   "id": "95cb0654-f372-439d-9b81-e86f4dd8a177",
   "metadata": {},
   "outputs": [
    {
     "name": "stdout",
     "output_type": "stream",
     "text": [
      "mammal\n",
      "I'm a mammal\n",
      "I'm a dog\n"
     ]
    }
   ],
   "source": [
    "# Example\n",
    "class Dog:\n",
    "\tattr1 = \"mammal\"\n",
    "\tattr2 = \"dog\"\n",
    "\n",
    "\tdef fun(self):\n",
    "\t\tprint(\"I'm a\", self.attr1)\n",
    "\t\tprint(\"I'm a\", self.attr2)\n",
    "Rodger = Dog()\n",
    "print(Rodger.attr1)\n",
    "Rodger.fun()\n"
   ]
  },
  {
   "cell_type": "markdown",
   "id": "3a709379-ad14-4b68-8467-fd8bc6b53eb4",
   "metadata": {},
   "source": [
    "Q2. Name the four pillars of OOPs."
   ]
  },
  {
   "cell_type": "markdown",
   "id": "2c40c5ac-7f27-4bc8-86e2-d6a13bbb4489",
   "metadata": {},
   "source": [
    "Ans:-\n",
    "1.abstraction\n",
    "2.encapsulation\n",
    "3.inheritance\n",
    "4.polymorphism"
   ]
  },
  {
   "cell_type": "markdown",
   "id": "a6fbfd97-c585-4929-8430-e914d0e68e09",
   "metadata": {},
   "source": [
    "Q3. Explain why the __init__() function is used. Give a suitable example."
   ]
  },
  {
   "cell_type": "markdown",
   "id": "bc4c2236-5e3a-40b7-8c75-e58f4e996dee",
   "metadata": {},
   "source": [
    "Ans:- The __init__ method lets the class initialize the object's attributes and serves no other purpose. It is only used within classes."
   ]
  },
  {
   "cell_type": "code",
   "execution_count": 9,
   "id": "9d87f38e-30e1-4e01-9d7a-b481daf67508",
   "metadata": {},
   "outputs": [
    {
     "name": "stdout",
     "output_type": "stream",
     "text": [
      "Hello, my name is Nikhil\n"
     ]
    }
   ],
   "source": [
    "class Person:\n",
    "\tdef __init__(self, name):\n",
    "\t\tself.name = name\n",
    "        \n",
    "\tdef say_hi(self):\n",
    "\t\tprint('Hello, my name is', self.name)\n",
    "\n",
    "\n",
    "p = Person('Nikhil')\n",
    "p.say_hi()\n"
   ]
  },
  {
   "cell_type": "markdown",
   "id": "1c5f6ae9-d99c-4d9a-b3e7-80f7d2930178",
   "metadata": {},
   "source": [
    "Q4. Why self is used in OOPs?"
   ]
  },
  {
   "cell_type": "markdown",
   "id": "f5aaa5cc-c030-43fd-a175-75b01516ffbb",
   "metadata": {},
   "source": [
    "Ans:- In Object-Oriented Programming (OOP), self is used as a convention to refer to the instance of the class itself. It acts as a reference to the current object on which a method is being called. The use of self is specific to Python and some other OOP languages and is not a keyword in the strict sense; rather, it is a standard naming convention for the first parameter of instance methods within a class."
   ]
  },
  {
   "cell_type": "markdown",
   "id": "732096ef-f911-471c-a9a7-967863065ce2",
   "metadata": {},
   "source": [
    "Q5. What is inheritance? Give an example for each type of inheritance."
   ]
  },
  {
   "cell_type": "markdown",
   "id": "86cf8182-c317-4a5e-a07b-b365bb6dd54c",
   "metadata": {},
   "source": [
    "Ans:- Inheritance is a fundamental concept in Object-Oriented Programming (OOP) that allows a new class (called the derived class or subclass) to inherit attributes and behaviors from an existing class (called the base class or superclass). The derived class can extend or modify the functionality of the base class while reusing its existing code, promoting code reuse, and facilitating hierarchical organization of classes.\n",
    "\n",
    "Types of Inheritance:\n",
    "\n",
    "1.Single Inheritance: In single inheritance, a derived class inherits from only one base class.\n",
    "\n",
    "2.Multiple Inheritance: In multiple inheritance, a derived class inherits from more than one base class. Note that multiple inheritance can lead to complex hierarchies and potential ambiguity when dealing with method and attribute resolution.\n",
    "\n",
    "3.Multilevel Inheritance: In multilevel inheritance, a class inherits from another class, which, in turn, is derived from another class. This creates a chain of inheritance.\n",
    "\n",
    "4.Hierarchical Inheritance: In hierarchical inheritance, multiple derived classes inherit from the same base class.\n",
    "\n",
    "5.Hybrid Inheritance: Hybrid inheritance is a combination of two or more types of inheritance. It involves multiple inheritance and/or multilevel inheritance within the same class hierarchy."
   ]
  },
  {
   "cell_type": "code",
   "execution_count": 11,
   "id": "f43cb112-bc70-4dbc-9a79-c497a98ce4df",
   "metadata": {},
   "outputs": [],
   "source": [
    "#syntax_of_single_inheritance\n",
    "\n",
    "class class1:              \n",
    "    pass\n",
    "\n",
    "class class2(class1):       \n",
    "    pass\n",
    "\n",
    "obj_name = class2()"
   ]
  },
  {
   "cell_type": "code",
   "execution_count": 13,
   "id": "91ec84b8-1f62-479a-91d6-2d1941b0653c",
   "metadata": {},
   "outputs": [],
   "source": [
    "#syntax_of_multiple_inheritance\n",
    "\n",
    "class parent_1:\n",
    "    pass\n",
    "\n",
    "class parent_2:\n",
    "    pass\n",
    "\n",
    "class child(parent_1,parent_2):\n",
    "    pass\n",
    "\n",
    "obj = child()"
   ]
  },
  {
   "cell_type": "code",
   "execution_count": null,
   "id": "0ffc8f65-1444-45c4-80e8-fb181ca8e6d9",
   "metadata": {},
   "outputs": [],
   "source": []
  }
 ],
 "metadata": {
  "kernelspec": {
   "display_name": "Python 3 (ipykernel)",
   "language": "python",
   "name": "python3"
  },
  "language_info": {
   "codemirror_mode": {
    "name": "ipython",
    "version": 3
   },
   "file_extension": ".py",
   "mimetype": "text/x-python",
   "name": "python",
   "nbconvert_exporter": "python",
   "pygments_lexer": "ipython3",
   "version": "3.10.8"
  }
 },
 "nbformat": 4,
 "nbformat_minor": 5
}
